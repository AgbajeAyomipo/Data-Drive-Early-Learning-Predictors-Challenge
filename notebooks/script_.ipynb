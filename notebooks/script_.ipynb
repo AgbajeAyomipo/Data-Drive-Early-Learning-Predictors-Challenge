{
 "cells": [
  {
   "cell_type": "code",
   "execution_count": 1,
   "metadata": {},
   "outputs": [],
   "source": [
    "import pandas as pd\n",
    "import numpy as np\n",
    "import seaborn as sns\n",
    "import matplotlib.pyplot as plt\n",
    "import os"
   ]
  },
  {
   "cell_type": "code",
   "execution_count": 2,
   "metadata": {},
   "outputs": [],
   "source": [
    "os.chdir('../')"
   ]
  },
  {
   "attachments": {},
   "cell_type": "markdown",
   "metadata": {},
   "source": [
    "__About__\n",
    "\n",
    "\n",
    "Data from multiple programmes and projects who used the ELOM tools were collated, spanning from 2019-2022. You can view the different data sources and collection methods\n",
    " in a PDF in the download section.\n",
    "\n",
    "There are 8 665 children in the train and 3 600 in test.\n",
    "\n",
    "In this competition, we aim to use machine learning techniques to identify factors of early learning programmes that contribute to better learning outcomes in children.\n",
    "While predicting the child’s ELOM score and the top 15 predictors for each child.\n",
    "\n",
    "The final merged dataset consisted of 12 265 children across 2 217 facilities. Table X below provides a summary of the data included in the meta-dataset.\n",
    "The first column indicates the data source, and the remainder of the columns show the different types of tools or data collected and the number of children we have data for\n",
    " across these sets of variables. An “X” indicates that the data was not collected at all.\n",
    "\n",
    "The Thrive by Five Index (2021) found that less than half of children attending an early learning programme (such as a preschool or creche) in South Africa start school\n",
    " with the right early learning foundation. There are many factors that influence whether a child Thrives by Five, such as access to a quality early learning programme,\n",
    " as well as poverty, gender, malnutrition, and emotional well-being. Children without a good foundation struggle to keep up at school and have a major learning disadvantage.\n",
    "\n",
    "The Index used the Early Learning Outcomes Measure (ELOM) to assess children, and categorises their development as either “on track”, “falling behind” or “falling far behind”.\n",
    "\n",
    "In this competition, your challenge is to use machine learning techniques to identify which early learning programme factors contribute to better learning outcomes in\n",
    "children, by predicting a child’s ELOM score.\n",
    "\n",
    "This will allow DataDrive2030 to design better interventions that make optimal use of limited resources to ensure South Africa’s children are thriving.\n",
    "\n",
    "About DataDrive2030 (datadrive2030.co.za)\n",
    "\n",
    "\n",
    "Established in March 2022, DataDrive2030 is a South African based social enterprise that supports the collection and use of high quality data to drive improved\n",
    "child outcomes in the first 6 years of life. Our suite of early learning measurement tools accurately measure a range of developmental outcomes in young children, and provide an indication of the quality of the early \n",
    "learning environment in home and programme settings. Tools are digitised and designed for affordable use at scale in all official South African languages, with built-in data quality assurance mechanisms.\n",
    "\n",
    "We aim to make these tools widely accessible, and to ensure that the information that is generated is easily understandable and most importantly, is actionable. \n",
    "Using data, our goal is to drive tangible improvements in early childhood development services in South Africa, by 2030."
   ]
  },
  {
   "cell_type": "code",
   "execution_count": 3,
   "metadata": {},
   "outputs": [
    {
     "data": {
      "text/plain": [
       "'c:\\\\Users\\\\Ayo Agbaje\\\\Documents\\\\Code\\\\Python\\\\GIGS\\\\PYTHON_docs\\\\py_files\\\\Competitions\\\\Zindi Competitions\\\\Data-Drive-Early-Learning-Predictors-Challenge'"
      ]
     },
     "execution_count": 3,
     "metadata": {},
     "output_type": "execute_result"
    }
   ],
   "source": [
    "pwd"
   ]
  },
  {
   "cell_type": "code",
   "execution_count": 4,
   "metadata": {},
   "outputs": [],
   "source": [
    "train_ = pd.read_csv('data/Train.csv', low_memory=False)\n",
    "test_ = pd.read_csv('data/Test.csv', low_memory=False)\n",
    "samp_sub_ = pd.read_csv('data/SampleSubmission.csv')\n",
    "var_desc_ = pd.read_csv('data/VariableDescription.csv')"
   ]
  },
  {
   "cell_type": "code",
   "execution_count": 5,
   "metadata": {},
   "outputs": [
    {
     "name": "stdout",
     "output_type": "stream",
     "text": [
      "<class 'pandas.core.frame.DataFrame'>\n",
      "RangeIndex: 8585 entries, 0 to 8584\n",
      "Columns: 679 entries, child_id to target\n",
      "dtypes: float64(160), object(519)\n",
      "memory usage: 44.5+ MB\n"
     ]
    }
   ],
   "source": [
    "train_.info()"
   ]
  },
  {
   "cell_type": "code",
   "execution_count": 6,
   "metadata": {},
   "outputs": [
    {
     "data": {
      "text/html": [
       "<div>\n",
       "<style scoped>\n",
       "    .dataframe tbody tr th:only-of-type {\n",
       "        vertical-align: middle;\n",
       "    }\n",
       "\n",
       "    .dataframe tbody tr th {\n",
       "        vertical-align: top;\n",
       "    }\n",
       "\n",
       "    .dataframe thead th {\n",
       "        text-align: right;\n",
       "    }\n",
       "</style>\n",
       "<table border=\"1\" class=\"dataframe\">\n",
       "  <thead>\n",
       "    <tr style=\"text-align: right;\">\n",
       "      <th></th>\n",
       "      <th>child_id</th>\n",
       "      <th>data_year</th>\n",
       "      <th>child_date</th>\n",
       "      <th>child_age</th>\n",
       "      <th>child_enrolment_date</th>\n",
       "      <th>child_months_enrolment</th>\n",
       "      <th>child_grant</th>\n",
       "      <th>child_years_in_programme</th>\n",
       "      <th>child_height</th>\n",
       "      <th>child_observe_attentive</th>\n",
       "      <th>...</th>\n",
       "      <th>obs_cooking_5</th>\n",
       "      <th>obs_cooking_6</th>\n",
       "      <th>obs_heating_1</th>\n",
       "      <th>obs_heating_2</th>\n",
       "      <th>obs_heating_3</th>\n",
       "      <th>obs_heating_4</th>\n",
       "      <th>obs_heating_5</th>\n",
       "      <th>obs_heating_6</th>\n",
       "      <th>obs_heating_7</th>\n",
       "      <th>target</th>\n",
       "    </tr>\n",
       "  </thead>\n",
       "  <tbody>\n",
       "    <tr>\n",
       "      <th>0</th>\n",
       "      <td>ID_SYSJ2FM0D</td>\n",
       "      <td>2022.0</td>\n",
       "      <td>2022-02-03</td>\n",
       "      <td>59.000000</td>\n",
       "      <td>NaN</td>\n",
       "      <td>NaN</td>\n",
       "      <td>NaN</td>\n",
       "      <td>NaN</td>\n",
       "      <td>NaN</td>\n",
       "      <td>Sometimes</td>\n",
       "      <td>...</td>\n",
       "      <td>NaN</td>\n",
       "      <td>NaN</td>\n",
       "      <td>NaN</td>\n",
       "      <td>NaN</td>\n",
       "      <td>NaN</td>\n",
       "      <td>NaN</td>\n",
       "      <td>NaN</td>\n",
       "      <td>NaN</td>\n",
       "      <td>NaN</td>\n",
       "      <td>51.500000</td>\n",
       "    </tr>\n",
       "    <tr>\n",
       "      <th>1</th>\n",
       "      <td>ID_J5BTFOZR3</td>\n",
       "      <td>2019.0</td>\n",
       "      <td>NaN</td>\n",
       "      <td>60.163933</td>\n",
       "      <td>NaN</td>\n",
       "      <td>NaN</td>\n",
       "      <td>NaN</td>\n",
       "      <td>1st year in the programme</td>\n",
       "      <td>103.000000</td>\n",
       "      <td>Sometimes</td>\n",
       "      <td>...</td>\n",
       "      <td>NaN</td>\n",
       "      <td>NaN</td>\n",
       "      <td>NaN</td>\n",
       "      <td>NaN</td>\n",
       "      <td>NaN</td>\n",
       "      <td>NaN</td>\n",
       "      <td>NaN</td>\n",
       "      <td>NaN</td>\n",
       "      <td>NaN</td>\n",
       "      <td>55.869999</td>\n",
       "    </tr>\n",
       "    <tr>\n",
       "      <th>2</th>\n",
       "      <td>ID_R00SN7AUD</td>\n",
       "      <td>2022.0</td>\n",
       "      <td>2022-03-11</td>\n",
       "      <td>69.000000</td>\n",
       "      <td>NaN</td>\n",
       "      <td>NaN</td>\n",
       "      <td>NaN</td>\n",
       "      <td>NaN</td>\n",
       "      <td>108.400002</td>\n",
       "      <td>Often</td>\n",
       "      <td>...</td>\n",
       "      <td>NaN</td>\n",
       "      <td>NaN</td>\n",
       "      <td>NaN</td>\n",
       "      <td>NaN</td>\n",
       "      <td>NaN</td>\n",
       "      <td>NaN</td>\n",
       "      <td>NaN</td>\n",
       "      <td>NaN</td>\n",
       "      <td>NaN</td>\n",
       "      <td>47.520000</td>\n",
       "    </tr>\n",
       "    <tr>\n",
       "      <th>3</th>\n",
       "      <td>ID_BSSK60PAZ</td>\n",
       "      <td>2021.0</td>\n",
       "      <td>2021-10-13</td>\n",
       "      <td>53.000000</td>\n",
       "      <td>2020-01-15</td>\n",
       "      <td>20.0</td>\n",
       "      <td>No</td>\n",
       "      <td>1st year in the programme</td>\n",
       "      <td>98.099998</td>\n",
       "      <td>Almost always</td>\n",
       "      <td>...</td>\n",
       "      <td>NaN</td>\n",
       "      <td>NaN</td>\n",
       "      <td>NaN</td>\n",
       "      <td>NaN</td>\n",
       "      <td>NaN</td>\n",
       "      <td>NaN</td>\n",
       "      <td>NaN</td>\n",
       "      <td>NaN</td>\n",
       "      <td>NaN</td>\n",
       "      <td>58.599998</td>\n",
       "    </tr>\n",
       "    <tr>\n",
       "      <th>4</th>\n",
       "      <td>ID_IZTY6TC4D</td>\n",
       "      <td>2021.0</td>\n",
       "      <td>2021-10-13</td>\n",
       "      <td>57.000000</td>\n",
       "      <td>2021-10-13</td>\n",
       "      <td>0.0</td>\n",
       "      <td>NaN</td>\n",
       "      <td>2nd year in programme</td>\n",
       "      <td>114.000000</td>\n",
       "      <td>Almost always</td>\n",
       "      <td>...</td>\n",
       "      <td>0.0</td>\n",
       "      <td>0.0</td>\n",
       "      <td>1.0</td>\n",
       "      <td>0.0</td>\n",
       "      <td>0.0</td>\n",
       "      <td>0.0</td>\n",
       "      <td>0.0</td>\n",
       "      <td>0.0</td>\n",
       "      <td>0.0</td>\n",
       "      <td>76.599998</td>\n",
       "    </tr>\n",
       "  </tbody>\n",
       "</table>\n",
       "<p>5 rows × 679 columns</p>\n",
       "</div>"
      ],
      "text/plain": [
       "       child_id  data_year  child_date  child_age child_enrolment_date  \\\n",
       "0  ID_SYSJ2FM0D     2022.0  2022-02-03  59.000000                  NaN   \n",
       "1  ID_J5BTFOZR3     2019.0         NaN  60.163933                  NaN   \n",
       "2  ID_R00SN7AUD     2022.0  2022-03-11  69.000000                  NaN   \n",
       "3  ID_BSSK60PAZ     2021.0  2021-10-13  53.000000           2020-01-15   \n",
       "4  ID_IZTY6TC4D     2021.0  2021-10-13  57.000000           2021-10-13   \n",
       "\n",
       "   child_months_enrolment child_grant   child_years_in_programme  \\\n",
       "0                     NaN         NaN                        NaN   \n",
       "1                     NaN         NaN  1st year in the programme   \n",
       "2                     NaN         NaN                        NaN   \n",
       "3                    20.0          No  1st year in the programme   \n",
       "4                     0.0         NaN      2nd year in programme   \n",
       "\n",
       "   child_height child_observe_attentive  ... obs_cooking_5 obs_cooking_6  \\\n",
       "0           NaN               Sometimes  ...           NaN           NaN   \n",
       "1    103.000000               Sometimes  ...           NaN           NaN   \n",
       "2    108.400002                   Often  ...           NaN           NaN   \n",
       "3     98.099998           Almost always  ...           NaN           NaN   \n",
       "4    114.000000           Almost always  ...           0.0           0.0   \n",
       "\n",
       "  obs_heating_1  obs_heating_2 obs_heating_3 obs_heating_4  obs_heating_5  \\\n",
       "0           NaN            NaN           NaN           NaN            NaN   \n",
       "1           NaN            NaN           NaN           NaN            NaN   \n",
       "2           NaN            NaN           NaN           NaN            NaN   \n",
       "3           NaN            NaN           NaN           NaN            NaN   \n",
       "4           1.0            0.0           0.0           0.0            0.0   \n",
       "\n",
       "  obs_heating_6 obs_heating_7     target  \n",
       "0           NaN           NaN  51.500000  \n",
       "1           NaN           NaN  55.869999  \n",
       "2           NaN           NaN  47.520000  \n",
       "3           NaN           NaN  58.599998  \n",
       "4           0.0           0.0  76.599998  \n",
       "\n",
       "[5 rows x 679 columns]"
      ]
     },
     "execution_count": 6,
     "metadata": {},
     "output_type": "execute_result"
    }
   ],
   "source": [
    "train_.head()"
   ]
  },
  {
   "cell_type": "code",
   "execution_count": 7,
   "metadata": {},
   "outputs": [
    {
     "data": {
      "text/html": [
       "<div>\n",
       "<style scoped>\n",
       "    .dataframe tbody tr th:only-of-type {\n",
       "        vertical-align: middle;\n",
       "    }\n",
       "\n",
       "    .dataframe tbody tr th {\n",
       "        vertical-align: top;\n",
       "    }\n",
       "\n",
       "    .dataframe thead th {\n",
       "        text-align: right;\n",
       "    }\n",
       "</style>\n",
       "<table border=\"1\" class=\"dataframe\">\n",
       "  <thead>\n",
       "    <tr style=\"text-align: right;\">\n",
       "      <th></th>\n",
       "      <th>child_id</th>\n",
       "      <th>target</th>\n",
       "      <th>feature_1</th>\n",
       "      <th>feature_2</th>\n",
       "      <th>feature_3</th>\n",
       "      <th>feature_4</th>\n",
       "      <th>feature_5</th>\n",
       "      <th>feature_6</th>\n",
       "      <th>feature_7</th>\n",
       "      <th>feature_8</th>\n",
       "      <th>feature_9</th>\n",
       "      <th>feature_10</th>\n",
       "      <th>feature_11</th>\n",
       "      <th>feature_12</th>\n",
       "      <th>feature_13</th>\n",
       "      <th>feature_14</th>\n",
       "      <th>feature_15</th>\n",
       "    </tr>\n",
       "  </thead>\n",
       "  <tbody>\n",
       "    <tr>\n",
       "      <th>0</th>\n",
       "      <td>ID_0I0999N6S</td>\n",
       "      <td>0</td>\n",
       "      <td>feature</td>\n",
       "      <td>feature</td>\n",
       "      <td>feature</td>\n",
       "      <td>feature</td>\n",
       "      <td>feature</td>\n",
       "      <td>feature</td>\n",
       "      <td>feature</td>\n",
       "      <td>feature</td>\n",
       "      <td>feature</td>\n",
       "      <td>feature</td>\n",
       "      <td>feature</td>\n",
       "      <td>feature</td>\n",
       "      <td>feature</td>\n",
       "      <td>feature</td>\n",
       "      <td>feature</td>\n",
       "    </tr>\n",
       "    <tr>\n",
       "      <th>1</th>\n",
       "      <td>ID_GQ6ONJ4FP</td>\n",
       "      <td>0</td>\n",
       "      <td>feature</td>\n",
       "      <td>feature</td>\n",
       "      <td>feature</td>\n",
       "      <td>feature</td>\n",
       "      <td>feature</td>\n",
       "      <td>feature</td>\n",
       "      <td>feature</td>\n",
       "      <td>feature</td>\n",
       "      <td>feature</td>\n",
       "      <td>feature</td>\n",
       "      <td>feature</td>\n",
       "      <td>feature</td>\n",
       "      <td>feature</td>\n",
       "      <td>feature</td>\n",
       "      <td>feature</td>\n",
       "    </tr>\n",
       "    <tr>\n",
       "      <th>2</th>\n",
       "      <td>ID_YZ76CVRW3</td>\n",
       "      <td>0</td>\n",
       "      <td>feature</td>\n",
       "      <td>feature</td>\n",
       "      <td>feature</td>\n",
       "      <td>feature</td>\n",
       "      <td>feature</td>\n",
       "      <td>feature</td>\n",
       "      <td>feature</td>\n",
       "      <td>feature</td>\n",
       "      <td>feature</td>\n",
       "      <td>feature</td>\n",
       "      <td>feature</td>\n",
       "      <td>feature</td>\n",
       "      <td>feature</td>\n",
       "      <td>feature</td>\n",
       "      <td>feature</td>\n",
       "    </tr>\n",
       "    <tr>\n",
       "      <th>3</th>\n",
       "      <td>ID_BNINCRXH8</td>\n",
       "      <td>0</td>\n",
       "      <td>feature</td>\n",
       "      <td>feature</td>\n",
       "      <td>feature</td>\n",
       "      <td>feature</td>\n",
       "      <td>feature</td>\n",
       "      <td>feature</td>\n",
       "      <td>feature</td>\n",
       "      <td>feature</td>\n",
       "      <td>feature</td>\n",
       "      <td>feature</td>\n",
       "      <td>feature</td>\n",
       "      <td>feature</td>\n",
       "      <td>feature</td>\n",
       "      <td>feature</td>\n",
       "      <td>feature</td>\n",
       "    </tr>\n",
       "    <tr>\n",
       "      <th>4</th>\n",
       "      <td>ID_1U7GDTLRI</td>\n",
       "      <td>0</td>\n",
       "      <td>feature</td>\n",
       "      <td>feature</td>\n",
       "      <td>feature</td>\n",
       "      <td>feature</td>\n",
       "      <td>feature</td>\n",
       "      <td>feature</td>\n",
       "      <td>feature</td>\n",
       "      <td>feature</td>\n",
       "      <td>feature</td>\n",
       "      <td>feature</td>\n",
       "      <td>feature</td>\n",
       "      <td>feature</td>\n",
       "      <td>feature</td>\n",
       "      <td>feature</td>\n",
       "      <td>feature</td>\n",
       "    </tr>\n",
       "  </tbody>\n",
       "</table>\n",
       "</div>"
      ],
      "text/plain": [
       "       child_id  target feature_1 feature_2 feature_3 feature_4 feature_5  \\\n",
       "0  ID_0I0999N6S       0   feature   feature   feature   feature   feature   \n",
       "1  ID_GQ6ONJ4FP       0   feature   feature   feature   feature   feature   \n",
       "2  ID_YZ76CVRW3       0   feature   feature   feature   feature   feature   \n",
       "3  ID_BNINCRXH8       0   feature   feature   feature   feature   feature   \n",
       "4  ID_1U7GDTLRI       0   feature   feature   feature   feature   feature   \n",
       "\n",
       "  feature_6 feature_7 feature_8 feature_9 feature_10 feature_11 feature_12  \\\n",
       "0   feature   feature   feature   feature    feature    feature    feature   \n",
       "1   feature   feature   feature   feature    feature    feature    feature   \n",
       "2   feature   feature   feature   feature    feature    feature    feature   \n",
       "3   feature   feature   feature   feature    feature    feature    feature   \n",
       "4   feature   feature   feature   feature    feature    feature    feature   \n",
       "\n",
       "  feature_13 feature_14 feature_15  \n",
       "0    feature    feature    feature  \n",
       "1    feature    feature    feature  \n",
       "2    feature    feature    feature  \n",
       "3    feature    feature    feature  \n",
       "4    feature    feature    feature  "
      ]
     },
     "execution_count": 7,
     "metadata": {},
     "output_type": "execute_result"
    }
   ],
   "source": [
    "samp_sub_.head()"
   ]
  },
  {
   "cell_type": "code",
   "execution_count": 8,
   "metadata": {},
   "outputs": [
    {
     "data": {
      "text/plain": [
       "False"
      ]
     },
     "execution_count": 8,
     "metadata": {},
     "output_type": "execute_result"
    }
   ],
   "source": [
    "'feature_1' in train_.columns"
   ]
  },
  {
   "cell_type": "code",
   "execution_count": 9,
   "metadata": {},
   "outputs": [],
   "source": [
    "pd.options.display.max_colwidth = 2000\n",
    "pd.options.display.max_rows = 500"
   ]
  },
  {
   "cell_type": "code",
   "execution_count": 10,
   "metadata": {},
   "outputs": [],
   "source": [
    "null_ = pd.DataFrame(data = train_.isnull().sum(), columns = ['Null Count'])\n",
    "null_ = null_[null_['Null Count'] > 3000]\n",
    "# null_\n",
    "\n",
    "cols_to_drop = []\n",
    "for i in null_.index:\n",
    "    cols_to_drop.append(i)"
   ]
  },
  {
   "cell_type": "code",
   "execution_count": 11,
   "metadata": {},
   "outputs": [
    {
     "data": {
      "text/plain": [
       "624"
      ]
     },
     "execution_count": 11,
     "metadata": {},
     "output_type": "execute_result"
    }
   ],
   "source": [
    "len(cols_to_drop)"
   ]
  },
  {
   "cell_type": "code",
   "execution_count": 12,
   "metadata": {},
   "outputs": [],
   "source": [
    "# train_ = train_.drop(cols_to_drop, axis = 1)\n",
    "# test_ = test_.drop(cols_to_drop, axis = 1)"
   ]
  },
  {
   "cell_type": "code",
   "execution_count": 13,
   "metadata": {},
   "outputs": [
    {
     "data": {
      "text/html": [
       "<div>\n",
       "<style scoped>\n",
       "    .dataframe tbody tr th:only-of-type {\n",
       "        vertical-align: middle;\n",
       "    }\n",
       "\n",
       "    .dataframe tbody tr th {\n",
       "        vertical-align: top;\n",
       "    }\n",
       "\n",
       "    .dataframe thead th {\n",
       "        text-align: right;\n",
       "    }\n",
       "</style>\n",
       "<table border=\"1\" class=\"dataframe\">\n",
       "  <thead>\n",
       "    <tr style=\"text-align: right;\">\n",
       "      <th></th>\n",
       "      <th>Null Count</th>\n",
       "    </tr>\n",
       "  </thead>\n",
       "  <tbody>\n",
       "    <tr>\n",
       "      <th>child_date</th>\n",
       "      <td>1821</td>\n",
       "    </tr>\n",
       "    <tr>\n",
       "      <th>child_enrolment_date</th>\n",
       "      <td>5964</td>\n",
       "    </tr>\n",
       "    <tr>\n",
       "      <th>child_months_enrolment</th>\n",
       "      <td>5964</td>\n",
       "    </tr>\n",
       "    <tr>\n",
       "      <th>child_grant</th>\n",
       "      <td>3133</td>\n",
       "    </tr>\n",
       "    <tr>\n",
       "      <th>child_years_in_programme</th>\n",
       "      <td>706</td>\n",
       "    </tr>\n",
       "    <tr>\n",
       "      <th>...</th>\n",
       "      <td>...</td>\n",
       "    </tr>\n",
       "    <tr>\n",
       "      <th>obs_heating_3</th>\n",
       "      <td>6324</td>\n",
       "    </tr>\n",
       "    <tr>\n",
       "      <th>obs_heating_4</th>\n",
       "      <td>6324</td>\n",
       "    </tr>\n",
       "    <tr>\n",
       "      <th>obs_heating_5</th>\n",
       "      <td>6324</td>\n",
       "    </tr>\n",
       "    <tr>\n",
       "      <th>obs_heating_6</th>\n",
       "      <td>6324</td>\n",
       "    </tr>\n",
       "    <tr>\n",
       "      <th>obs_heating_7</th>\n",
       "      <td>6324</td>\n",
       "    </tr>\n",
       "  </tbody>\n",
       "</table>\n",
       "<p>663 rows × 1 columns</p>\n",
       "</div>"
      ],
      "text/plain": [
       "                          Null Count\n",
       "child_date                      1821\n",
       "child_enrolment_date            5964\n",
       "child_months_enrolment          5964\n",
       "child_grant                     3133\n",
       "child_years_in_programme         706\n",
       "...                              ...\n",
       "obs_heating_3                   6324\n",
       "obs_heating_4                   6324\n",
       "obs_heating_5                   6324\n",
       "obs_heating_6                   6324\n",
       "obs_heating_7                   6324\n",
       "\n",
       "[663 rows x 1 columns]"
      ]
     },
     "execution_count": 13,
     "metadata": {},
     "output_type": "execute_result"
    }
   ],
   "source": [
    "null_ = pd.DataFrame(data = train_.isnull().sum(), columns = ['Null Count'])\n",
    "null_[null_['Null Count'] > 20]"
   ]
  },
  {
   "cell_type": "code",
   "execution_count": 14,
   "metadata": {},
   "outputs": [],
   "source": [
    "cols_ = ['child_id', 'data_year', 'child_age', 'child_observe_attentive',\n",
    "       'child_observe_concentrated', 'child_observe_diligent',\n",
    "       'child_observe_interested', 'child_gender', 'child_age_group',\n",
    "       'prov_best', 'id_facility', 'hle_ind', 'language_assessment', 'sef_ind',\n",
    "       'pre_covid', 'child_years_in_programme', 'child_stunted', 'language_child', 'language_match', 'urban', 'target']"
   ]
  },
  {
   "cell_type": "code",
   "execution_count": 15,
   "metadata": {},
   "outputs": [],
   "source": [
    "train_ = train_[cols_]\n",
    "test_ = test_[cols_[:-1]]"
   ]
  },
  {
   "cell_type": "code",
   "execution_count": 16,
   "metadata": {},
   "outputs": [
    {
     "data": {
      "text/plain": [
       "(8585, 21)"
      ]
     },
     "execution_count": 16,
     "metadata": {},
     "output_type": "execute_result"
    }
   ],
   "source": [
    "train_.shape"
   ]
  },
  {
   "cell_type": "code",
   "execution_count": 17,
   "metadata": {},
   "outputs": [
    {
     "data": {
      "text/plain": [
       "(3680, 20)"
      ]
     },
     "execution_count": 17,
     "metadata": {},
     "output_type": "execute_result"
    }
   ],
   "source": [
    "test_.shape"
   ]
  },
  {
   "cell_type": "code",
   "execution_count": 18,
   "metadata": {},
   "outputs": [
    {
     "data": {
      "text/plain": [
       "child_id                         0\n",
       "data_year                        0\n",
       "child_age                        0\n",
       "child_observe_attentive          0\n",
       "child_observe_concentrated       0\n",
       "child_observe_diligent           0\n",
       "child_observe_interested         0\n",
       "child_gender                     0\n",
       "child_age_group                  0\n",
       "prov_best                        0\n",
       "id_facility                     12\n",
       "hle_ind                          0\n",
       "language_assessment              0\n",
       "sef_ind                          0\n",
       "pre_covid                        0\n",
       "child_years_in_programme       706\n",
       "child_stunted                 1662\n",
       "language_child                1543\n",
       "language_match                  62\n",
       "urban                         3760\n",
       "target                           0\n",
       "dtype: int64"
      ]
     },
     "execution_count": 18,
     "metadata": {},
     "output_type": "execute_result"
    }
   ],
   "source": [
    "train_.isnull().sum()"
   ]
  },
  {
   "cell_type": "code",
   "execution_count": 19,
   "metadata": {},
   "outputs": [],
   "source": [
    "train_['id_facility'] = train_['id_facility'].fillna(value = 1613.0)\n",
    "train_['child_years_in_programme'] = train_['child_years_in_programme'].fillna(value = '1st year in the programme')\n",
    "train_['child_stunted'] = train_['child_stunted'].fillna(value = 'Normal')\n",
    "train_['language_child'] = train_['language_child'].fillna(value = 'isiZulu')\n",
    "\n",
    "test_['id_facility'] = test_['id_facility'].fillna(value = 1613.0)\n",
    "test_['child_years_in_programme'] = test_['child_years_in_programme'].fillna(value = '1st year in the programme')\n",
    "test_['child_stunted'] = test_['child_stunted'].fillna(value = 'Normal')\n",
    "test_['language_child'] = test_['language_child'].fillna(value = 'isiZulu')\n"
   ]
  },
  {
   "cell_type": "code",
   "execution_count": 20,
   "metadata": {},
   "outputs": [],
   "source": [
    "train_ = train_.drop('urban', axis = 1)\n",
    "test_ = test_.drop('urban', axis = 1)\n",
    "# # train_.head()"
   ]
  },
  {
   "cell_type": "code",
   "execution_count": 29,
   "metadata": {},
   "outputs": [
    {
     "data": {
      "text/plain": [
       "child_id                      0\n",
       "data_year                     0\n",
       "child_age                     0\n",
       "child_observe_attentive       0\n",
       "child_observe_concentrated    0\n",
       "child_observe_diligent        0\n",
       "child_observe_interested      0\n",
       "child_gender                  0\n",
       "child_age_group               0\n",
       "prov_best                     0\n",
       "id_facility                   0\n",
       "hle_ind                       0\n",
       "language_assessment           0\n",
       "sef_ind                       0\n",
       "pre_covid                     0\n",
       "child_years_in_programme      0\n",
       "child_stunted                 0\n",
       "language_child                0\n",
       "language_match                0\n",
       "target                        0\n",
       "dtype: int64"
      ]
     },
     "execution_count": 29,
     "metadata": {},
     "output_type": "execute_result"
    }
   ],
   "source": [
    "train_.isnull().sum()"
   ]
  },
  {
   "cell_type": "code",
   "execution_count": 28,
   "metadata": {},
   "outputs": [
    {
     "data": {
      "text/plain": [
       "child_id                       0\n",
       "data_year                      0\n",
       "child_age                      0\n",
       "child_observe_attentive        0\n",
       "child_observe_concentrated     0\n",
       "child_observe_diligent         0\n",
       "child_observe_interested       0\n",
       "child_gender                   0\n",
       "child_age_group                0\n",
       "prov_best                      0\n",
       "id_facility                    0\n",
       "hle_ind                        0\n",
       "language_assessment            0\n",
       "sef_ind                        0\n",
       "pre_covid                      0\n",
       "child_years_in_programme       0\n",
       "child_stunted                  0\n",
       "language_child                 0\n",
       "language_match                20\n",
       "dtype: int64"
      ]
     },
     "execution_count": 28,
     "metadata": {},
     "output_type": "execute_result"
    }
   ],
   "source": [
    "test_.isnull().sum()"
   ]
  },
  {
   "cell_type": "code",
   "execution_count": 23,
   "metadata": {},
   "outputs": [
    {
     "data": {
      "text/plain": [
       "(8585, 20)"
      ]
     },
     "execution_count": 23,
     "metadata": {},
     "output_type": "execute_result"
    }
   ],
   "source": [
    "train_.shape"
   ]
  },
  {
   "cell_type": "code",
   "execution_count": 24,
   "metadata": {},
   "outputs": [
    {
     "data": {
      "text/html": [
       "<div>\n",
       "<style scoped>\n",
       "    .dataframe tbody tr th:only-of-type {\n",
       "        vertical-align: middle;\n",
       "    }\n",
       "\n",
       "    .dataframe tbody tr th {\n",
       "        vertical-align: top;\n",
       "    }\n",
       "\n",
       "    .dataframe thead th {\n",
       "        text-align: right;\n",
       "    }\n",
       "</style>\n",
       "<table border=\"1\" class=\"dataframe\">\n",
       "  <thead>\n",
       "    <tr style=\"text-align: right;\">\n",
       "      <th></th>\n",
       "      <th>child_id</th>\n",
       "      <th>data_year</th>\n",
       "      <th>child_age</th>\n",
       "      <th>child_observe_attentive</th>\n",
       "      <th>child_observe_concentrated</th>\n",
       "      <th>child_observe_diligent</th>\n",
       "      <th>child_observe_interested</th>\n",
       "      <th>child_gender</th>\n",
       "      <th>child_age_group</th>\n",
       "      <th>prov_best</th>\n",
       "      <th>id_facility</th>\n",
       "      <th>hle_ind</th>\n",
       "      <th>language_assessment</th>\n",
       "      <th>sef_ind</th>\n",
       "      <th>pre_covid</th>\n",
       "      <th>child_years_in_programme</th>\n",
       "      <th>child_stunted</th>\n",
       "      <th>language_child</th>\n",
       "      <th>language_match</th>\n",
       "      <th>target</th>\n",
       "    </tr>\n",
       "  </thead>\n",
       "  <tbody>\n",
       "    <tr>\n",
       "      <th>0</th>\n",
       "      <td>ID_SYSJ2FM0D</td>\n",
       "      <td>2022.0</td>\n",
       "      <td>59.000000</td>\n",
       "      <td>Sometimes</td>\n",
       "      <td>Sometimes</td>\n",
       "      <td>Sometimes</td>\n",
       "      <td>Sometimes</td>\n",
       "      <td>Female</td>\n",
       "      <td>50-59 months</td>\n",
       "      <td>GAUTENG</td>\n",
       "      <td>761.0</td>\n",
       "      <td>No</td>\n",
       "      <td>Sesotho</td>\n",
       "      <td>Yes</td>\n",
       "      <td>Post COVID</td>\n",
       "      <td>1st year in the programme</td>\n",
       "      <td>Normal</td>\n",
       "      <td>Sesotho</td>\n",
       "      <td>1.0</td>\n",
       "      <td>51.500000</td>\n",
       "    </tr>\n",
       "    <tr>\n",
       "      <th>1</th>\n",
       "      <td>ID_J5BTFOZR3</td>\n",
       "      <td>2019.0</td>\n",
       "      <td>60.163933</td>\n",
       "      <td>Sometimes</td>\n",
       "      <td>Almost never</td>\n",
       "      <td>Sometimes</td>\n",
       "      <td>Often</td>\n",
       "      <td>Female</td>\n",
       "      <td>60-69 months</td>\n",
       "      <td>KWAZULU-NATAL</td>\n",
       "      <td>458.0</td>\n",
       "      <td>No</td>\n",
       "      <td>isiZulu</td>\n",
       "      <td>Yes</td>\n",
       "      <td>Pre-COVID</td>\n",
       "      <td>1st year in the programme</td>\n",
       "      <td>Normal</td>\n",
       "      <td>isiZulu</td>\n",
       "      <td>1.0</td>\n",
       "      <td>55.869999</td>\n",
       "    </tr>\n",
       "    <tr>\n",
       "      <th>2</th>\n",
       "      <td>ID_R00SN7AUD</td>\n",
       "      <td>2022.0</td>\n",
       "      <td>69.000000</td>\n",
       "      <td>Often</td>\n",
       "      <td>Often</td>\n",
       "      <td>Sometimes</td>\n",
       "      <td>Often</td>\n",
       "      <td>Male</td>\n",
       "      <td>60-69 months</td>\n",
       "      <td>WESTERN CAPE</td>\n",
       "      <td>925.0</td>\n",
       "      <td>No</td>\n",
       "      <td>Afrikaans</td>\n",
       "      <td>No</td>\n",
       "      <td>Post COVID</td>\n",
       "      <td>1st year in the programme</td>\n",
       "      <td>Normal</td>\n",
       "      <td>Afrikaans</td>\n",
       "      <td>1.0</td>\n",
       "      <td>47.520000</td>\n",
       "    </tr>\n",
       "    <tr>\n",
       "      <th>3</th>\n",
       "      <td>ID_BSSK60PAZ</td>\n",
       "      <td>2021.0</td>\n",
       "      <td>53.000000</td>\n",
       "      <td>Almost always</td>\n",
       "      <td>Almost always</td>\n",
       "      <td>Sometimes</td>\n",
       "      <td>Often</td>\n",
       "      <td>Male</td>\n",
       "      <td>50-59 months</td>\n",
       "      <td>WESTERN CAPE</td>\n",
       "      <td>308.0</td>\n",
       "      <td>No</td>\n",
       "      <td>isiXhosa</td>\n",
       "      <td>Yes</td>\n",
       "      <td>Post COVID</td>\n",
       "      <td>1st year in the programme</td>\n",
       "      <td>Normal</td>\n",
       "      <td>isiXhosa</td>\n",
       "      <td>1.0</td>\n",
       "      <td>58.599998</td>\n",
       "    </tr>\n",
       "    <tr>\n",
       "      <th>4</th>\n",
       "      <td>ID_IZTY6TC4D</td>\n",
       "      <td>2021.0</td>\n",
       "      <td>57.000000</td>\n",
       "      <td>Almost always</td>\n",
       "      <td>Almost always</td>\n",
       "      <td>Almost always</td>\n",
       "      <td>Almost always</td>\n",
       "      <td>Female</td>\n",
       "      <td>50-59 months</td>\n",
       "      <td>KWAZULU-NATAL</td>\n",
       "      <td>1749.0</td>\n",
       "      <td>No</td>\n",
       "      <td>isiZulu</td>\n",
       "      <td>Yes</td>\n",
       "      <td>Post COVID</td>\n",
       "      <td>2nd year in programme</td>\n",
       "      <td>Normal</td>\n",
       "      <td>isiZulu</td>\n",
       "      <td>1.0</td>\n",
       "      <td>76.599998</td>\n",
       "    </tr>\n",
       "  </tbody>\n",
       "</table>\n",
       "</div>"
      ],
      "text/plain": [
       "       child_id  data_year  child_age child_observe_attentive  \\\n",
       "0  ID_SYSJ2FM0D     2022.0  59.000000               Sometimes   \n",
       "1  ID_J5BTFOZR3     2019.0  60.163933               Sometimes   \n",
       "2  ID_R00SN7AUD     2022.0  69.000000                   Often   \n",
       "3  ID_BSSK60PAZ     2021.0  53.000000           Almost always   \n",
       "4  ID_IZTY6TC4D     2021.0  57.000000           Almost always   \n",
       "\n",
       "  child_observe_concentrated child_observe_diligent child_observe_interested  \\\n",
       "0                  Sometimes              Sometimes                Sometimes   \n",
       "1               Almost never              Sometimes                    Often   \n",
       "2                      Often              Sometimes                    Often   \n",
       "3              Almost always              Sometimes                    Often   \n",
       "4              Almost always          Almost always            Almost always   \n",
       "\n",
       "  child_gender child_age_group      prov_best  id_facility hle_ind  \\\n",
       "0       Female    50-59 months        GAUTENG        761.0      No   \n",
       "1       Female    60-69 months  KWAZULU-NATAL        458.0      No   \n",
       "2         Male    60-69 months   WESTERN CAPE        925.0      No   \n",
       "3         Male    50-59 months   WESTERN CAPE        308.0      No   \n",
       "4       Female    50-59 months  KWAZULU-NATAL       1749.0      No   \n",
       "\n",
       "  language_assessment sef_ind   pre_covid   child_years_in_programme  \\\n",
       "0             Sesotho     Yes  Post COVID  1st year in the programme   \n",
       "1             isiZulu     Yes   Pre-COVID  1st year in the programme   \n",
       "2           Afrikaans      No  Post COVID  1st year in the programme   \n",
       "3            isiXhosa     Yes  Post COVID  1st year in the programme   \n",
       "4             isiZulu     Yes  Post COVID      2nd year in programme   \n",
       "\n",
       "  child_stunted language_child  language_match     target  \n",
       "0        Normal        Sesotho             1.0  51.500000  \n",
       "1        Normal        isiZulu             1.0  55.869999  \n",
       "2        Normal      Afrikaans             1.0  47.520000  \n",
       "3        Normal       isiXhosa             1.0  58.599998  \n",
       "4        Normal        isiZulu             1.0  76.599998  "
      ]
     },
     "execution_count": 24,
     "metadata": {},
     "output_type": "execute_result"
    }
   ],
   "source": [
    "train_.head()"
   ]
  },
  {
   "cell_type": "code",
   "execution_count": 25,
   "metadata": {},
   "outputs": [],
   "source": [
    "def language_match(func_):\n",
    "    lang_assess = func_[0]\n",
    "    lang_child = func_[1]\n",
    "    lang_match = func_[2]\n",
    "\n",
    "    if pd.isnull(lang_match):\n",
    "        if lang_assess == lang_child:\n",
    "            return 1\n",
    "        else:\n",
    "            return 0\n",
    "    else:\n",
    "        return lang_match"
   ]
  },
  {
   "cell_type": "code",
   "execution_count": 30,
   "metadata": {},
   "outputs": [],
   "source": [
    "col_list_ = ['language_assessment', 'language_child', 'language_match']\n",
    "train_['language_match'] = train_[col_list_].apply(language_match, axis = 1)\n",
    "test_['language_match'] = test_[col_list_].apply(language_match, axis = 1)"
   ]
  },
  {
   "cell_type": "code",
   "execution_count": 33,
   "metadata": {},
   "outputs": [],
   "source": [
    "# train_._get_numeric_data()"
   ]
  },
  {
   "cell_type": "code",
   "execution_count": 34,
   "metadata": {},
   "outputs": [],
   "source": [
    "plt.style.use('fivethirtyeight')"
   ]
  },
  {
   "cell_type": "code",
   "execution_count": 40,
   "metadata": {},
   "outputs": [
    {
     "data": {
      "text/plain": [
       "<AxesSubplot:xlabel='target', ylabel='Count'>"
      ]
     },
     "execution_count": 40,
     "metadata": {},
     "output_type": "execute_result"
    },
    {
     "data": {
      "image/png": "[encoded data removed]",
      "text/plain": [
       "<Figure size 720x460.8 with 1 Axes>"
      ]
     },
     "metadata": {},
     "output_type": "display_data"
    }
   ],
   "source": [
    "plt.figure(figsize=(10,6.4))\n",
    "sns.histplot(data = train_, x = 'target', color = 'grey', alpha = 1)"
   ]
  },
  {
   "cell_type": "code",
   "execution_count": 58,
   "metadata": {},
   "outputs": [],
   "source": [
    "def hue_hist(target_col, hue_order):\n",
    "    plt.figure(figsize=(10,6.4))\n",
    "    sns.histplot(data = train_, x = 'target', hue = target_col, alpha = .63, hue_order = hue_order)"
   ]
  },
  {
   "cell_type": "code",
   "execution_count": 64,
   "metadata": {},
   "outputs": [
    {
     "data": {
      "image/png": "[encoded data removed]",
      "text/plain": [
       "<Figure size 720x460.8 with 1 Axes>"
      ]
     },
     "metadata": {},
     "output_type": "display_data"
    }
   ],
   "source": [
    "hue_hist(target_col = 'child_years_in_programme', hue_order = sorted(train_['child_years_in_programme'].unique(), reverse = True))"
   ]
  },
  {
   "cell_type": "code",
   "execution_count": 65,
   "metadata": {},
   "outputs": [
    {
     "data": {
      "image/png": "[encoded data removed]",
      "text/plain": [
       "<Figure size 720x460.8 with 1 Axes>"
      ]
     },
     "metadata": {},
     "output_type": "display_data"
    }
   ],
   "source": [
    "hue_hist(target_col = 'child_stunted', hue_order = sorted(train_['child_stunted'].unique(), reverse = True))"
   ]
  },
  {
   "cell_type": "code",
   "execution_count": 77,
   "metadata": {},
   "outputs": [
    {
     "data": {
      "text/html": [
       "<div>\n",
       "<style scoped>\n",
       "    .dataframe tbody tr th:only-of-type {\n",
       "        vertical-align: middle;\n",
       "    }\n",
       "\n",
       "    .dataframe tbody tr th {\n",
       "        vertical-align: top;\n",
       "    }\n",
       "\n",
       "    .dataframe thead th {\n",
       "        text-align: right;\n",
       "    }\n",
       "</style>\n",
       "<table border=\"1\" class=\"dataframe\">\n",
       "  <thead>\n",
       "    <tr style=\"text-align: right;\">\n",
       "      <th></th>\n",
       "      <th>Mean ELOM Score</th>\n",
       "    </tr>\n",
       "    <tr>\n",
       "      <th>child_gender</th>\n",
       "      <th></th>\n",
       "    </tr>\n",
       "  </thead>\n",
       "  <tbody>\n",
       "    <tr>\n",
       "      <th>Female</th>\n",
       "      <td>49.927066</td>\n",
       "    </tr>\n",
       "    <tr>\n",
       "      <th>Male</th>\n",
       "      <td>47.371494</td>\n",
       "    </tr>\n",
       "  </tbody>\n",
       "</table>\n",
       "</div>"
      ],
      "text/plain": [
       "              Mean ELOM Score\n",
       "child_gender                 \n",
       "Female              49.927066\n",
       "Male                47.371494"
      ]
     },
     "execution_count": 77,
     "metadata": {},
     "output_type": "execute_result"
    }
   ],
   "source": [
    "gender_group = train_.groupby('child_gender')\n",
    "gender_group_mean = gender_group.mean()\n",
    "gender_target = gender_group_mean[['target']]\n",
    "gender_target.columns = ['Mean ELOM Score']\n",
    "gender_target"
   ]
  },
  {
   "cell_type": "code",
   "execution_count": 91,
   "metadata": {},
   "outputs": [
    {
     "data": {
      "text/html": [
       "<div>\n",
       "<style scoped>\n",
       "    .dataframe tbody tr th:only-of-type {\n",
       "        vertical-align: middle;\n",
       "    }\n",
       "\n",
       "    .dataframe tbody tr th {\n",
       "        vertical-align: top;\n",
       "    }\n",
       "\n",
       "    .dataframe thead th {\n",
       "        text-align: right;\n",
       "    }\n",
       "</style>\n",
       "<table border=\"1\" class=\"dataframe\">\n",
       "  <thead>\n",
       "    <tr style=\"text-align: right;\">\n",
       "      <th></th>\n",
       "      <th>Count</th>\n",
       "    </tr>\n",
       "  </thead>\n",
       "  <tbody>\n",
       "    <tr>\n",
       "      <th>Female</th>\n",
       "      <td>4442</td>\n",
       "    </tr>\n",
       "    <tr>\n",
       "      <th>Male</th>\n",
       "      <td>4143</td>\n",
       "    </tr>\n",
       "  </tbody>\n",
       "</table>\n",
       "</div>"
      ],
      "text/plain": [
       "        Count\n",
       "Female   4442\n",
       "Male     4143"
      ]
     },
     "execution_count": 91,
     "metadata": {},
     "output_type": "execute_result"
    }
   ],
   "source": [
    "gender_count = pd.DataFrame(data = train_['child_gender'].value_counts())\n",
    "gender_count.columns = ['Count']\n",
    "gender_count"
   ]
  },
  {
   "cell_type": "code",
   "execution_count": 82,
   "metadata": {},
   "outputs": [
    {
     "data": {
      "text/plain": [
       "Female    4442\n",
       "Male      4143\n",
       "Name: child_gender, dtype: int64"
      ]
     },
     "execution_count": 82,
     "metadata": {},
     "output_type": "execute_result"
    }
   ],
   "source": [
    "train_['child_gender'].value_counts()"
   ]
  },
  {
   "cell_type": "code",
   "execution_count": 94,
   "metadata": {},
   "outputs": [
    {
     "data": {
      "text/plain": [
       "<AxesSubplot:xlabel='child_age', ylabel='Count'>"
      ]
     },
     "execution_count": 94,
     "metadata": {},
     "output_type": "execute_result"
    },
    {
     "data": {
      "image/png": "[encoded data removed]",
      "text/plain": [
       "<Figure size 720x460.8 with 1 Axes>"
      ]
     },
     "metadata": {},
     "output_type": "display_data"
    }
   ],
   "source": [
    "plt.figure(figsize=(10,6.4))\n",
    "sns.histplot(data = train_, x = 'child_age', color = 'grey', alpha = 1, bins = 15)"
   ]
  },
  {
   "cell_type": "code",
   "execution_count": 95,
   "metadata": {},
   "outputs": [
    {
     "data": {
      "text/plain": [
       "58.11687336054329"
      ]
     },
     "execution_count": 95,
     "metadata": {},
     "output_type": "execute_result"
    }
   ],
   "source": [
    "train_['child_age'].mean()"
   ]
  },
  {
   "cell_type": "code",
   "execution_count": 97,
   "metadata": {},
   "outputs": [
    {
     "data": {
      "text/plain": [
       "<AxesSubplot:xlabel='child_age', ylabel='target'>"
      ]
     },
     "execution_count": 97,
     "metadata": {},
     "output_type": "execute_result"
    },
    {
     "data": {
      "image/png": "[encoded data removed]",
      "text/plain": [
       "<Figure size 720x460.8 with 1 Axes>"
      ]
     },
     "metadata": {},
     "output_type": "display_data"
    }
   ],
   "source": [
    "plt.figure(figsize=(10,6.4))\n",
    "sns.scatterplot(x = 'child_age', y = 'target', data = train_)"
   ]
  },
  {
   "cell_type": "code",
   "execution_count": null,
   "metadata": {},
   "outputs": [],
   "source": []
  }
 ],
 "metadata": {
  "kernelspec": {
   "display_name": "my_venv_",
   "language": "python",
   "name": "python3"
  },
  "language_info": {
   "codemirror_mode": {
    "name": "ipython",
    "version": 3
   },
   "file_extension": ".py",
   "mimetype": "text/x-python",
   "name": "python",
   "nbconvert_exporter": "python",
   "pygments_lexer": "ipython3",
   "version": "3.10.5"
  },
  "orig_nbformat": 4,
  "vscode": {
   "interpreter": {
    "hash": "9b263d7927ede25cb646ee2b0f8e72870ed531703475dab66c62ea36a04dd643"
   }
  }
 },
 "nbformat": 4,
 "nbformat_minor": 2
}
